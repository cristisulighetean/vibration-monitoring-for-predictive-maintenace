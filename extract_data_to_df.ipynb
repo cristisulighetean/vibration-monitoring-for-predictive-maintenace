{
 "metadata": {
  "language_info": {
   "codemirror_mode": {
    "name": "ipython",
    "version": 3
   },
   "file_extension": ".py",
   "mimetype": "text/x-python",
   "name": "python",
   "nbconvert_exporter": "python",
   "pygments_lexer": "ipython3",
   "version": "3.8.6-final"
  },
  "orig_nbformat": 2,
  "kernelspec": {
   "name": "python38564bit816174220f7147da8db81c83acc58865",
   "display_name": "Python 3.8.5 64-bit",
   "language": "python"
  }
 },
 "nbformat": 4,
 "nbformat_minor": 2,
 "cells": [
  {
   "source": [
    "## Extracting the data from JSON format to a pandas df"
   ],
   "cell_type": "markdown",
   "metadata": {}
  },
  {
   "cell_type": "code",
   "execution_count": 29,
   "metadata": {},
   "outputs": [],
   "source": [
    "import json\n",
    "import pandas as pd\n",
    "import re\n",
    "import os\n",
    "import codecs\n",
    "import csv"
   ]
  },
  {
   "cell_type": "code",
   "execution_count": 86,
   "metadata": {},
   "outputs": [
    {
     "output_type": "execute_result",
     "data": {
      "text/plain": [
       "['type_a.json',\n",
       " 'type_b.json',\n",
       " 'type_c.json',\n",
       " 'type_d.json',\n",
       " 'type_e.json',\n",
       " 'type_f.json',\n",
       " 'type_g.json',\n",
       " 'type_h.json',\n",
       " 'type_i.json',\n",
       " 'type_j.json']"
      ]
     },
     "metadata": {},
     "execution_count": 86
    }
   ],
   "source": [
    "# Get a list of all files\n",
    "path = 'json_data_centralized/'\n",
    "list_files = [i for i in os.listdir(path)]\n",
    "list_files.sort()\n",
    "list_files\n",
    "\n"
   ]
  },
  {
   "cell_type": "code",
   "execution_count": 87,
   "metadata": {
    "tags": []
   },
   "outputs": [
    {
     "output_type": "error",
     "ename": "FileNotFoundError",
     "evalue": "[Errno 2] No such file or directory: 'type_a.json'",
     "traceback": [
      "\u001b[0;31m---------------------------------------------------------------------------\u001b[0m",
      "\u001b[0;31mFileNotFoundError\u001b[0m                         Traceback (most recent call last)",
      "\u001b[0;32m<ipython-input-87-b223aa315ce9>\u001b[0m in \u001b[0;36m<module>\u001b[0;34m\u001b[0m\n\u001b[1;32m      5\u001b[0m     \u001b[0mtype_n_data\u001b[0m \u001b[0;34m=\u001b[0m \u001b[0;34m[\u001b[0m\u001b[0;34m]\u001b[0m\u001b[0;34m\u001b[0m\u001b[0;34m\u001b[0m\u001b[0m\n\u001b[1;32m      6\u001b[0m \u001b[0;34m\u001b[0m\u001b[0m\n\u001b[0;32m----> 7\u001b[0;31m     \u001b[0;32mwith\u001b[0m \u001b[0mopen\u001b[0m\u001b[0;34m(\u001b[0m\u001b[0mfile_name\u001b[0m\u001b[0;34m)\u001b[0m \u001b[0;32mas\u001b[0m \u001b[0mfile\u001b[0m\u001b[0;34m:\u001b[0m\u001b[0;34m\u001b[0m\u001b[0;34m\u001b[0m\u001b[0m\n\u001b[0m\u001b[1;32m      8\u001b[0m         \u001b[0;32mfor\u001b[0m \u001b[0mline\u001b[0m \u001b[0;32min\u001b[0m \u001b[0mfile\u001b[0m\u001b[0;34m:\u001b[0m\u001b[0;34m\u001b[0m\u001b[0;34m\u001b[0m\u001b[0m\n\u001b[1;32m      9\u001b[0m             \u001b[0mjson_obj\u001b[0m \u001b[0;34m=\u001b[0m \u001b[0mjson\u001b[0m\u001b[0;34m.\u001b[0m\u001b[0mloads\u001b[0m\u001b[0;34m(\u001b[0m\u001b[0mline\u001b[0m\u001b[0;34m)\u001b[0m\u001b[0;34m\u001b[0m\u001b[0;34m\u001b[0m\u001b[0m\n",
      "\u001b[0;31mFileNotFoundError\u001b[0m: [Errno 2] No such file or directory: 'type_a.json'"
     ]
    }
   ],
   "source": [
    "data_list = []\n",
    "\n",
    "for file_name in list_files:\n",
    "    # Extract them in a list\n",
    "    type_n_data = []\n",
    "\n",
    "    with open(file_name) as file:\n",
    "        for line in file:\n",
    "            json_obj = json.loads(line)\n",
    "            type_n_data.append(json_obj)\n",
    "    \n",
    "\n",
    "    # Make a df of each sample\n",
    "    type_df_list = []\n",
    "    for i, item in enumerate(type_n_data):\n",
    "        values = item['payload']['values']\n",
    "        df = pd.DataFrame(values)\n",
    "        type_df_list.append(df)\n",
    "    \n",
    "    data_list.append(type_df_list)\n",
    "\n",
    "\n",
    "\n",
    "\n",
    "#type1_df_list[0].mean()\n",
    "#df = pd.read_json(\"json_data_centralized/test.json\")\n",
    "#df[\"payload\"]['values']"
   ]
  },
  {
   "source": [
    "#### df architecture\n",
    "\n",
    " 0 - xAxis;\n",
    " 1 - yAxis;\n",
    " 2 - zAzis;"
   ],
   "cell_type": "markdown",
   "metadata": {}
  },
  {
   "cell_type": "code",
   "execution_count": null,
   "metadata": {},
   "outputs": [],
   "source": []
  }
 ]
}